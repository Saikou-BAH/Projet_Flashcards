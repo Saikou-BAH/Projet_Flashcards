{
 "cells": [
  {
   "cell_type": "markdown",
   "metadata": {},
   "source": [
    "# - PROJETS FLASHCARDS"
   ]
  },
  {
   "cell_type": "code",
   "execution_count": 86,
   "metadata": {},
   "outputs": [],
   "source": [
    "import sys\n",
    "import sqlite3\n",
    "import pandas as pd\n",
    "from datetime import datetime\n"
   ]
  },
  {
   "cell_type": "code",
   "execution_count": 87,
   "metadata": {},
   "outputs": [
    {
     "name": "stdout",
     "output_type": "stream",
     "text": [
      "La version de Python est :  3.10.16 (main, Dec 11 2024, 16:24:50) [GCC 11.2.0]\n",
      "La version de SQLite3 est : 3.45.3\n",
      "La version de Pandas est : 2.2.3\n"
     ]
    }
   ],
   "source": [
    "print(\"La version de Python est : \", sys.version)\n",
    "print(\"La version de SQLite3 est :\", sqlite3.sqlite_version)\n",
    "print(\"La version de Pandas est :\",pd.__version__)"
   ]
  },
  {
   "cell_type": "markdown",
   "metadata": {},
   "source": [
    "#  1 - Fonction d'initialisation de la base de données"
   ]
  },
  {
   "cell_type": "code",
   "execution_count": 88,
   "metadata": {},
   "outputs": [],
   "source": [
    "def init_db():\n",
    "\n",
    "    # Creation de la connexion\n",
    "    conn=sqlite3.connect(\"flashcards.db\")\n",
    "\n",
    "    # Je crée un curseur pour executer les requtes\n",
    "    c=conn.cursor()\n",
    "    # Pour activer les clés etrangeres\n",
    "    c.execute(\"PRAGMA foreign_keys=ON;\")\n",
    "\n",
    "    # Creation des tables\n",
    "\n",
    "    c.execute('''\n",
    "            CREATE TABLE IF NOT EXISTS Themes (\n",
    "                ID INTEGER PRIMARY KEY,\n",
    "                Theme TEXT  \n",
    "            );''')\n",
    "\n",
    "    c.execute('''\n",
    "            CREATE TABLE IF NOT EXISTS Cards(\n",
    "                ID INTEGER PRIMARY KEY,\n",
    "                Question TEXT,\n",
    "                Reponse TEXT,\n",
    "                Probabilite REAL CHECK(probabilite >= 0.1 AND probabilite <= 1),\n",
    "                id_theme INTEGER,\n",
    "                FOREIGN KEY (id_theme) REFERENCES themes(ID) ON DELETE RESTRICT\n",
    "            );''')\n",
    "\n",
    "    c.execute('''\n",
    "            CREATE TABLE IF NOT EXISTS Stats(\n",
    "                ID INTEGER PRIMARY KEY,\n",
    "                Bonnes_Reponses INTEGER,\n",
    "                Mauvaises_Reponses INTEGER,\n",
    "                Date DATE\n",
    "            );''')\n",
    "\n",
    "    # Je vais inserer les themes\n",
    "    c.execute('''\n",
    "            INSERT INTO Themes (ID, Theme) \n",
    "            VALUES (1, 'Statistiques et Probabilités'),\n",
    "            (2,'Machine Learning'),\n",
    "            (3,'Deep Learning'),\n",
    "            (4, 'Econometrie et Modélisation Financière'),\n",
    "            (5,'Manipulation des Données avec Pandas et SQL'),\n",
    "            (6, 'Visualisation des Données'),\n",
    "            (7, 'Traitement des Séries Temporelles'),\n",
    "            (8, 'Ethique et Biais en Data Science'),\n",
    "            (9, 'Bonnes Pratiques et Outils Dev');\n",
    "            ''')\n",
    "\n",
    "    conn.commit()\n",
    "    conn.close()"
   ]
  },
  {
   "cell_type": "code",
   "execution_count": 89,
   "metadata": {},
   "outputs": [],
   "source": [
    "# Appel de la fonction d'initialisation et d'insertion des thémes\n",
    "init_db()"
   ]
  },
  {
   "cell_type": "code",
   "execution_count": 90,
   "metadata": {},
   "outputs": [],
   "source": [
    "# Verification de la création des tables\n",
    "\n",
    "def verification():\n",
    "    \n",
    "    # La connexion\n",
    "    with sqlite3.connect(\"flashcards.db\") as conn:\n",
    "        # Mon curseur\n",
    "        c=conn.cursor()\n",
    "        # Activer les clés etrangeres\n",
    "        c.execute(\"PRAGMA foreign_keys=ON;\")\n",
    "        \n",
    "        # requetes\n",
    "        c.execute(\"SELECT name FROM sqlite_master WHERE type=?\",(\"table\",))\n",
    "        \n",
    "        # je recupere les tables\n",
    "        resultat=c.fetchall()\n",
    "        \n",
    "        if resultat:\n",
    "            print(f\"✅ Les tables présentes dans la base de données sont :\")\n",
    "            for element in resultat:\n",
    "                print (element[0])\n",
    "        else :\n",
    "            print(\"❌ Aucune table trouvée dans la base de données.\")\n",
    "    "
   ]
  },
  {
   "cell_type": "code",
   "execution_count": 91,
   "metadata": {},
   "outputs": [
    {
     "name": "stdout",
     "output_type": "stream",
     "text": [
      "✅ Les tables présentes dans la base de données sont :\n",
      "Themes\n",
      "Cards\n",
      "Stats\n"
     ]
    }
   ],
   "source": [
    "verification()"
   ]
  },
  {
   "cell_type": "markdown",
   "metadata": {},
   "source": [
    "# 2 - Fonction CRUD pour les flashcards"
   ]
  },
  {
   "cell_type": "markdown",
   "metadata": {},
   "source": [
    "## 2-1 Fonction de création de la carte"
   ]
  },
  {
   "cell_type": "code",
   "execution_count": 92,
   "metadata": {},
   "outputs": [],
   "source": [
    "# Fonction de création de carte\n",
    "def create_card(question, reponse, probabilite, id_theme):\n",
    "    # J'ouvre la connexion\n",
    "    with sqlite3.connect(\"flashcards.db\") as conn:\n",
    "        # Le curseur pour envoyer les commandes\n",
    "        c=conn.cursor()\n",
    "        # Pour activer les clés etrangeres\n",
    "        c.execute(\"PRAGMA foreign_keys=ON;\")\n",
    "        \n",
    "        # On va verifier si la carte n'existe pas déja\n",
    "        c.execute(\"SELECT COUNT(*) FROM cards WHERE question=? AND reponse=? and id_theme=?\", (question, reponse, id_theme))\n",
    "        carte_exist=c.fetchone()[0]\n",
    "        \n",
    "        if carte_exist>0:\n",
    "            print(f\"❌ La carte avec cette question et réponse existe déjà dans ce thème.\")\n",
    "        else:    \n",
    "            c.execute(\"\"\" INSERT INTO cards (question, reponse, probabilite, id_theme)\n",
    "                  VALUES(?, ?, ?, ?)\"\"\", (question, reponse, probabilite , id_theme))\n",
    "            # Pour sauvegrader les changements dans la base\n",
    "            conn.commit()\n",
    "            print(f\"✅ la carte est créée avec succès.\")"
   ]
  },
  {
   "cell_type": "code",
   "execution_count": 93,
   "metadata": {},
   "outputs": [
    {
     "name": "stdout",
     "output_type": "stream",
     "text": [
      "✅ la carte est créée avec succès.\n",
      "✅ la carte est créée avec succès.\n",
      "✅ la carte est créée avec succès.\n",
      "✅ la carte est créée avec succès.\n",
      "✅ la carte est créée avec succès.\n"
     ]
    }
   ],
   "source": [
    "# Cartes pour le thème \"Statistiques et Probabilités\" (id_theme=1)\n",
    "create_card(\"Quelle est la différence entre la moyenne et la médiane ?\",\n",
    "            \"La moyenne est la somme des valeurs divisée par leur nombre, tandis que la médiane est la valeur centrale d'un ensemble de données trié.\",\n",
    "            0.7,\n",
    "            1)\n",
    "\n",
    "create_card(\"Qu'est-ce que la variance en statistique ?\",\n",
    "            \"La variance mesure la dispersion des valeurs par rapport à la moyenne. Un écart-type élevé signifie une forte dispersion.\",\n",
    "            0.8,\n",
    "            1)\n",
    "\n",
    "create_card(\"À quoi sert l'écart-type en statistique ?\",\n",
    "            \"L'écart-type est la racine carrée de la variance et permet d'évaluer la dispersion des données autour de la moyenne.\",\n",
    "            0.7,\n",
    "            1)\n",
    "\n",
    "create_card(\"Qu'est-ce que la loi normale ?\",\n",
    "            \"La loi normale est une distribution symétrique en forme de cloche où la plupart des valeurs sont proches de la moyenne.\",\n",
    "            0.9,\n",
    "            1)\n",
    "\n",
    "create_card(\"Qu'est-ce qu'un quartile en statistique ?\",\n",
    "            \"Un quartile est une valeur qui divise un ensemble de données trié en quatre parties égales.\",\n",
    "            0.75,\n",
    "            1)"
   ]
  },
  {
   "cell_type": "code",
   "execution_count": 94,
   "metadata": {},
   "outputs": [
    {
     "name": "stdout",
     "output_type": "stream",
     "text": [
      "✅ la carte est créée avec succès.\n",
      "✅ la carte est créée avec succès.\n",
      "✅ la carte est créée avec succès.\n",
      "✅ la carte est créée avec succès.\n",
      "✅ la carte est créée avec succès.\n"
     ]
    }
   ],
   "source": [
    "# Cartes pour le thème \"Machine Learning\" (id_theme=2)\n",
    "create_card(\"Qu'est-ce que l'apprentissage supervisé ?\",\n",
    "            \"Un type d'apprentissage où le modèle est formé avec des données étiquetées.\",\n",
    "            0.9,\n",
    "            2)\n",
    "\n",
    "create_card(\"Quelle est la différence entre régression et classification ?\",\n",
    "            \"La régression prédit des valeurs continues, la classification des catégories.\",\n",
    "            0.8,\n",
    "            2)\n",
    "\n",
    "create_card(\"Qu'est-ce qu'un modèle linéaire ?\",\n",
    "            \"Un modèle qui suppose que la relation entre les variables est linéaire.\",\n",
    "            0.75,\n",
    "            2)\n",
    "\n",
    "create_card(\"Qu'est-ce que l'overfitting ?\",\n",
    "            \"Lorsque le modèle s'ajuste trop bien aux données d'entraînement et perd en généralisation.\",\n",
    "            0.85,\n",
    "            2)\n",
    "\n",
    "create_card(\"Qu'est-ce qu'une matrice de confusion ?\",\n",
    "            \"Un tableau qui montre les performances d'un modèle de classification.\",\n",
    "            0.95,\n",
    "            2)"
   ]
  },
  {
   "cell_type": "code",
   "execution_count": 95,
   "metadata": {},
   "outputs": [
    {
     "name": "stdout",
     "output_type": "stream",
     "text": [
      "✅ la carte est créée avec succès.\n"
     ]
    },
    {
     "name": "stdout",
     "output_type": "stream",
     "text": [
      "✅ la carte est créée avec succès.\n",
      "✅ la carte est créée avec succès.\n",
      "✅ la carte est créée avec succès.\n",
      "✅ la carte est créée avec succès.\n"
     ]
    }
   ],
   "source": [
    "# Cartes pour le thème \"Deep Learning\" (id_theme=3)\n",
    "create_card(\"Qu'est-ce qu'un réseau de neurones ?\",\n",
    "            \"Un modèle inspiré du cerveau humain qui peut apprendre des représentations complexes.\",\n",
    "            0.85,\n",
    "            3)\n",
    "\n",
    "create_card(\"Qu'est-ce qu'une activation ReLU ?\",\n",
    "            \"Une fonction d'activation qui renvoie 0 pour les entrées négatives et l'entrée pour les positives.\",\n",
    "            0.9,\n",
    "            3)\n",
    "\n",
    "create_card(\"Qu'est-ce qu'une couche convolutive ?\",\n",
    "            \"Une couche qui applique des filtres pour extraire des caractéristiques des images.\",\n",
    "            0.8,\n",
    "            3)\n",
    "\n",
    "create_card(\"Qu'est-ce que la rétropropagation ?\",\n",
    "            \"Une méthode pour ajuster les poids du réseau lors de l'apprentissage.\",\n",
    "            0.75,\n",
    "            3)\n",
    "\n",
    "create_card(\"Qu'est-ce qu'un réseau de neurones convolutif ?\",\n",
    "            \"Un réseau conçu spécifiquement pour traiter des données structurées comme des images.\",\n",
    "            0.85,\n",
    "            3)"
   ]
  },
  {
   "cell_type": "code",
   "execution_count": 96,
   "metadata": {},
   "outputs": [
    {
     "name": "stdout",
     "output_type": "stream",
     "text": [
      "✅ la carte est créée avec succès.\n",
      "✅ la carte est créée avec succès.\n",
      "✅ la carte est créée avec succès.\n",
      "✅ la carte est créée avec succès.\n",
      "✅ la carte est créée avec succès.\n"
     ]
    }
   ],
   "source": [
    "# Cartes pour le thème \"Econometrie et Modélisation Financière\" (id_theme=4)\n",
    "create_card(\"Qu'est-ce que la régression linéaire en économétrie ?\",\n",
    "            \"Un modèle qui décrit la relation entre une variable dépendante et une ou plusieurs variables indépendantes.\",\n",
    "            0.8,\n",
    "            4)\n",
    "\n",
    "create_card(\"Qu'est-ce que l'ADF test en économétrie ?\",\n",
    "            \"Le test ADF (Augmented Dickey-Fuller) est utilisé pour vérifier si une série temporelle est stationnaire.\",\n",
    "            0.85,\n",
    "            4)\n",
    "\n",
    "create_card(\"Qu'est-ce qu'un modèle VAR en économétrie ?\",\n",
    "            \"Le modèle VAR (Vector Autoregressive) est utilisé pour analyser les relations entre plusieurs séries temporelles.\",\n",
    "            0.9,\n",
    "            4)\n",
    "\n",
    "create_card(\"Qu'est-ce qu'un portefeuille optimal en modélisation financière ?\",\n",
    "            \"Un portefeuille qui maximise le rendement attendu pour un risque donné ou minimise le risque pour un rendement attendu donné.\",\n",
    "            0.75,\n",
    "            4)\n",
    "\n",
    "create_card(\"Qu'est-ce que la méthode des moindres carrés en économétrie ?\",\n",
    "            \"Une méthode statistique utilisée pour estimer les paramètres d'un modèle de régression.\",\n",
    "            0.8,\n",
    "            4)"
   ]
  },
  {
   "cell_type": "code",
   "execution_count": 97,
   "metadata": {},
   "outputs": [
    {
     "name": "stdout",
     "output_type": "stream",
     "text": [
      "✅ la carte est créée avec succès.\n",
      "✅ la carte est créée avec succès.\n",
      "✅ la carte est créée avec succès.\n",
      "✅ la carte est créée avec succès.\n",
      "✅ la carte est créée avec succès.\n"
     ]
    }
   ],
   "source": [
    "# Cartes pour le thème \"Manipulation des Données avec Pandas et SQL\" (id_theme=5)\n",
    "create_card(\"Qu'est-ce que Pandas en Python ?\",\n",
    "            \"Pandas est une bibliothèque qui permet de manipuler et d'analyser des données sous forme de tableaux (DataFrame).\",\n",
    "            0.85,\n",
    "            5)\n",
    "\n",
    "create_card(\"Comment filtrer les lignes d'un DataFrame Pandas selon une condition ?\",\n",
    "            \"On utilise la syntaxe df[df['colonne'] > valeur] pour filtrer les lignes.\",\n",
    "            0.8,\n",
    "            5)\n",
    "\n",
    "create_card(\"Qu'est-ce qu'une jointure SQL ?\",\n",
    "            \"Une jointure permet de combiner des données provenant de plusieurs tables en fonction d'une clé partagée.\",\n",
    "            0.9,\n",
    "            5)\n",
    "\n",
    "create_card(\"Comment grouper des données avec Pandas ?\",\n",
    "            \"On utilise la méthode `groupby()` pour grouper les données par une ou plusieurs colonnes.\",\n",
    "            0.7,\n",
    "            5)\n",
    "\n",
    "create_card(\"Comment faire une requête SQL SELECT ?\",\n",
    "            \"On utilise `SELECT colonne FROM table WHERE condition` pour extraire des données d'une table.\",\n",
    "            0.85,\n",
    "            5)"
   ]
  },
  {
   "cell_type": "code",
   "execution_count": 98,
   "metadata": {},
   "outputs": [
    {
     "name": "stdout",
     "output_type": "stream",
     "text": [
      "✅ la carte est créée avec succès.\n",
      "✅ la carte est créée avec succès.\n",
      "✅ la carte est créée avec succès.\n",
      "✅ la carte est créée avec succès.\n",
      "✅ la carte est créée avec succès.\n"
     ]
    }
   ],
   "source": [
    "# Cartes pour le thème \"Visualisation des Données\" (id_theme=6)\n",
    "create_card(\"Qu'est-ce que Matplotlib ?\",\n",
    "            \"Matplotlib est une bibliothèque Python utilisée pour créer des graphiques et des visualisations de données.\",\n",
    "            0.9,\n",
    "            6)\n",
    "\n",
    "create_card(\"Comment créer un histogramme avec Matplotlib ?\",\n",
    "            \"On utilise la fonction `plt.hist()` pour créer un histogramme.\",\n",
    "            0.75,\n",
    "            6)\n",
    "\n",
    "create_card(\"Qu'est-ce que Seaborn en Python ?\",\n",
    "            \"Seaborn est une bibliothèque Python basée sur Matplotlib, offrant une interface plus simple pour créer des visualisations complexes.\",\n",
    "            0.8,\n",
    "            6)\n",
    "\n",
    "create_card(\"Comment personnaliser les axes d'un graphique avec Matplotlib ?\",\n",
    "            \"On utilise `plt.xlim()` et `plt.ylim()` pour définir les limites des axes.\",\n",
    "            0.85,\n",
    "            6)\n",
    "\n",
    "create_card(\"Qu'est-ce que le graphique en boîte (boxplot) ?\",\n",
    "            \"Un graphique qui montre la distribution des données à travers leurs quartiles et les valeurs aberrantes.\",\n",
    "            0.9,\n",
    "            6)"
   ]
  },
  {
   "cell_type": "code",
   "execution_count": 99,
   "metadata": {},
   "outputs": [
    {
     "name": "stdout",
     "output_type": "stream",
     "text": [
      "✅ la carte est créée avec succès.\n",
      "✅ la carte est créée avec succès.\n",
      "✅ la carte est créée avec succès.\n",
      "✅ la carte est créée avec succès.\n",
      "✅ la carte est créée avec succès.\n"
     ]
    }
   ],
   "source": [
    "# Cartes pour le thème \"Traitement des Séries Temporelles\" (id_theme=7)\n",
    "create_card(\"Qu'est-ce qu'une série temporelle ?\",\n",
    "            \"Une série temporelle est une séquence de données mesurées à intervalles réguliers.\",\n",
    "            0.8,\n",
    "            7)\n",
    "\n",
    "create_card(\"Qu'est-ce qu'un modèle ARIMA ?\",\n",
    "            \"ARIMA est un modèle de prévision qui combine l'auto-régression, la différenciation et la moyenne mobile.\",\n",
    "            0.9,\n",
    "            7)\n",
    "\n",
    "create_card(\"Qu'est-ce que la stationnarité en séries temporelles ?\",\n",
    "            \"Une série temporelle est stationnaire si ses propriétés statistiques ne changent pas dans le temps.\",\n",
    "            0.85,\n",
    "            7)\n",
    "\n",
    "create_card(\"Comment traiter les valeurs manquantes dans une série temporelle ?\",\n",
    "            \"On peut utiliser des méthodes comme l'imputation ou l'interpolation pour traiter les valeurs manquantes.\",\n",
    "            0.75,\n",
    "            7)\n",
    "\n",
    "create_card(\"Qu'est-ce que le lissage exponentiel ?\",\n",
    "            \"Le lissage exponentiel est une méthode de prévision qui donne plus de poids aux observations récentes.\",\n",
    "            0.8,\n",
    "            7)"
   ]
  },
  {
   "cell_type": "code",
   "execution_count": 100,
   "metadata": {},
   "outputs": [
    {
     "name": "stdout",
     "output_type": "stream",
     "text": [
      "✅ la carte est créée avec succès.\n",
      "✅ la carte est créée avec succès.\n",
      "✅ la carte est créée avec succès.\n",
      "✅ la carte est créée avec succès.\n",
      "✅ la carte est créée avec succès.\n"
     ]
    }
   ],
   "source": [
    "# Cartes pour le thème \"Ethique et Biais en Data Science\" (id_theme=8)\n",
    "create_card(\"Qu'est-ce que le biais algorithmique ?\",\n",
    "            \"Le biais algorithmique est l'erreur systématique introduite par un algorithme qui produit des résultats injustes ou discriminatoires.\",\n",
    "            0.85,\n",
    "            8)\n",
    "\n",
    "create_card(\"Comment minimiser le biais dans les données d'entraînement ?\",\n",
    "            \"En s'assurant que les données d'entraînement sont représentatives de l'ensemble de la population.\",\n",
    "            0.8,\n",
    "            8)\n",
    "\n",
    "create_card(\"Qu'est-ce que la confidentialité des données ?\",\n",
    "            \"La confidentialité des données concerne la protection des informations sensibles contre l'accès non autorisé.\",\n",
    "            0.9,\n",
    "            8)\n",
    "\n",
    "create_card(\"Qu'est-ce que la discrimination algorithmique ?\",\n",
    "            \"La discrimination algorithmique se produit lorsqu'un algorithme pénalise injustement certains groupes d'individus.\",\n",
    "            0.75,\n",
    "            8)\n",
    "\n",
    "create_card(\"Comment rendre un modèle plus équitable ?\",\n",
    "            \"On peut ajuster les données d'entraînement, utiliser des techniques de détection du biais, ou appliquer des méthodes de régularisation.\",\n",
    "            0.8,\n",
    "            8)"
   ]
  },
  {
   "cell_type": "code",
   "execution_count": 101,
   "metadata": {},
   "outputs": [
    {
     "name": "stdout",
     "output_type": "stream",
     "text": [
      "✅ la carte est créée avec succès.\n",
      "✅ la carte est créée avec succès.\n",
      "✅ la carte est créée avec succès.\n",
      "✅ la carte est créée avec succès.\n",
      "✅ la carte est créée avec succès.\n"
     ]
    }
   ],
   "source": [
    "# Cartes pour le thème \"Bonnes Pratiques et Outils Dev\" (id_theme=9)\n",
    "create_card(\"Qu'est-ce que Git ?\",\n",
    "            \"Git est un système de contrôle de version permettant de gérer les versions de code source et de collaborer efficacement.\",\n",
    "            0.85,\n",
    "            9)\n",
    "\n",
    "create_card(\"Qu'est-ce que le débogage ?\",\n",
    "            \"Le débogage consiste à identifier et à corriger les erreurs dans le code.\",\n",
    "            0.8,\n",
    "            9)\n",
    "\n",
    "create_card(\"Qu'est-ce que l'intégration continue ?\",\n",
    "            \"L'intégration continue est une pratique de développement où le code est intégré et testé fréquemment dans un dépôt partagé.\",\n",
    "            0.9,\n",
    "            9)\n",
    "\n",
    "create_card(\"Pourquoi utiliser Docker ?\",\n",
    "            \"Docker permet de créer, déployer et exécuter des applications dans des conteneurs isolés, facilitant ainsi le déploiement et la portabilité.\",\n",
    "            0.75,\n",
    "            9)\n",
    "\n",
    "create_card(\"Qu'est-ce que la gestion des dépendances ?\",\n",
    "            \"La gestion des dépendances consiste à gérer les bibliothèques et modules nécessaires pour exécuter une application.\",\n",
    "            0.8,\n",
    "            9)"
   ]
  },
  {
   "cell_type": "markdown",
   "metadata": {},
   "source": [
    "## 2-2 Fonction pour recuperer une carte"
   ]
  },
  {
   "cell_type": "code",
   "execution_count": 102,
   "metadata": {},
   "outputs": [],
   "source": [
    "# Fonction pour recuperer une carte\n",
    "def get_card(id):\n",
    "    # J'ouvre la connexion qui va se fermer automatiquement\n",
    "    with sqlite3.connect(\"flashcards.db\") as conn:\n",
    "        # Je crée le curseur pour envoyer les commandes\n",
    "        c=conn.cursor()\n",
    "        # Pour activer les clés etrangeres\n",
    "        c.execute(\"PRAGMA foreign_keys=ON;\")\n",
    "        \n",
    "        c.execute(\"SELECT * FROM Cards WHERE id=?\"\"\",(id,))\n",
    "        card=c.fetchone()\n",
    "        if card :\n",
    "            print(f\"✅ la Carte avec l'ID est trouvée  :\",id)\n",
    "            print()\n",
    "            return card\n",
    "        else:\n",
    "            print(\"❌ Aucune carte trouvée avec cet l'ID {id}.\")\n",
    "            return None"
   ]
  },
  {
   "cell_type": "code",
   "execution_count": 103,
   "metadata": {},
   "outputs": [
    {
     "name": "stdout",
     "output_type": "stream",
     "text": [
      "✅ la Carte avec l'ID est trouvée  : 1\n",
      "\n",
      "(1, 'Quelle est la différence entre la moyenne et la médiane ?', \"La moyenne est la somme des valeurs divisée par leur nombre, tandis que la médiane est la valeur centrale d'un ensemble de données trié.\", 0.7, 1)\n"
     ]
    }
   ],
   "source": [
    "# On recupere la carte avec l'id 1\n",
    "print(get_card(1))"
   ]
  },
  {
   "cell_type": "markdown",
   "metadata": {},
   "source": [
    "## 2-3 Fonction pour mettre à jour une carte"
   ]
  },
  {
   "cell_type": "code",
   "execution_count": 104,
   "metadata": {},
   "outputs": [],
   "source": [
    "# Pour mettre à jour une carte\n",
    "def update_card(id, question, reponse, probabilite, id_theme):\n",
    "    # J'ouvre la connexion \n",
    "    with sqlite3.connect(\"flashcards.db\") as conn:\n",
    "        # Je crée le curseur pour envoyer les commandes\n",
    "        c=conn.cursor()\n",
    "        #Pour activer les clés etrangeres\n",
    "        c.execute(\"PRAGMA foreign_keys=ON;\")\n",
    "        # On verifie si elle existe avant de la mettre a jour\n",
    "        c.execute(\"SELECT * FROM cards WHERE id=?\", (id,))\n",
    "        card=c.fetchone()\n",
    "        if card:\n",
    "            c.execute(\"\"\"\n",
    "                  UPDATE cards SET question =?, reponse=?, probabilite=?, id_theme=? WHERE id=? \n",
    "                  \"\"\", (question, reponse, probabilite, id_theme, id))\n",
    "            conn.commit()\n",
    "            print(f\"✅ La  Carte avec l'ID {id} est mise à jour avec succès.\")\n",
    "        else :\n",
    "            print(f\"❌ Aucune carte trouvée avec l'ID {id} pour mise à jour.\")           "
   ]
  },
  {
   "cell_type": "code",
   "execution_count": 105,
   "metadata": {},
   "outputs": [
    {
     "name": "stdout",
     "output_type": "stream",
     "text": [
      "✅ La  Carte avec l'ID 1 est mise à jour avec succès.\n"
     ]
    }
   ],
   "source": [
    "# Mise à jour de la carte avec l'id 1\n",
    "update_card(1, \"Qu'est-ce que la variance ?\", \n",
    "            \"La variance mesure la dispersion des valeurs autour de la moyenne.\", \n",
    "            0.9, 1)"
   ]
  },
  {
   "cell_type": "markdown",
   "metadata": {},
   "source": [
    "## 2-4 Fonction pour supprimer une carte "
   ]
  },
  {
   "cell_type": "code",
   "execution_count": 106,
   "metadata": {},
   "outputs": [],
   "source": [
    "## Pour supprimer une carte\n",
    "def delete_card(id):\n",
    "    with sqlite3.connect(\"flashcards.db\") as conn:\n",
    "        c=conn.cursor()\n",
    "        c.execute(\"PRAGMA foreign_keys=ON\")\n",
    "        # Je verifie si la carte existe\n",
    "        c.execute(\"SELECT * FROM cards WHERE id=?\", (id,))\n",
    "        card=c.fetchone()\n",
    "        \n",
    "        if card:\n",
    "            c.execute(\"DELETE FROM cards WHERE id=?\", (id,))\n",
    "            conn.commit()\n",
    "            print(f\"✅ La carte avec l'ID {id} est supprimée avec succés.\")\n",
    "        else:\n",
    "            print(f\"❌ La Carte avec l'ID {id} est introuvable.\")"
   ]
  },
  {
   "cell_type": "code",
   "execution_count": 107,
   "metadata": {},
   "outputs": [
    {
     "name": "stdout",
     "output_type": "stream",
     "text": [
      "✅ La carte avec l'ID 2 est supprimée avec succés.\n"
     ]
    }
   ],
   "source": [
    "# Je supprime la carte avec l'id 2\n",
    "delete_card(2)"
   ]
  },
  {
   "cell_type": "markdown",
   "metadata": {},
   "source": [
    "## 2-5 Fonction pour recuperer toutes les cartes"
   ]
  },
  {
   "cell_type": "code",
   "execution_count": 108,
   "metadata": {},
   "outputs": [],
   "source": [
    "# Fonction pour recuperer toutes les cartes\n",
    "def get_all_cards():\n",
    "    with sqlite3.connect(\"flashcards.db\") as conn:\n",
    "        c=conn.cursor()\n",
    "        c.execute(\"PRAGMA foreign_keys=ON;\")\n",
    "        c.execute(\"SELECT * FROM cards\")\n",
    "        cards=c.fetchall()\n",
    "        \n",
    "        if cards:\n",
    "            print(f\"✅ {len(cards)} carte(s) trouvée(s) :\")\n",
    "            for cartes in cards:\n",
    "                print(cartes)\n",
    "            return \n",
    "        else:\n",
    "            print(\"❌ Aucune carte trouvée dans la base de données.\")\n",
    "            return []\n",
    "        "
   ]
  },
  {
   "cell_type": "code",
   "execution_count": 109,
   "metadata": {},
   "outputs": [
    {
     "name": "stdout",
     "output_type": "stream",
     "text": [
      "✅ 44 carte(s) trouvée(s) :\n",
      "(1, \"Qu'est-ce que la variance ?\", 'La variance mesure la dispersion des valeurs autour de la moyenne.', 0.9, 1)\n",
      "(3, \"À quoi sert l'écart-type en statistique ?\", \"L'écart-type est la racine carrée de la variance et permet d'évaluer la dispersion des données autour de la moyenne.\", 0.7, 1)\n",
      "(4, \"Qu'est-ce que la loi normale ?\", 'La loi normale est une distribution symétrique en forme de cloche où la plupart des valeurs sont proches de la moyenne.', 0.9, 1)\n",
      "(5, \"Qu'est-ce qu'un quartile en statistique ?\", 'Un quartile est une valeur qui divise un ensemble de données trié en quatre parties égales.', 0.75, 1)\n",
      "(6, \"Qu'est-ce que l'apprentissage supervisé ?\", \"Un type d'apprentissage où le modèle est formé avec des données étiquetées.\", 0.9, 2)\n",
      "(7, 'Quelle est la différence entre régression et classification ?', 'La régression prédit des valeurs continues, la classification des catégories.', 0.8, 2)\n",
      "(8, \"Qu'est-ce qu'un modèle linéaire ?\", 'Un modèle qui suppose que la relation entre les variables est linéaire.', 0.75, 2)\n",
      "(9, \"Qu'est-ce que l'overfitting ?\", \"Lorsque le modèle s'ajuste trop bien aux données d'entraînement et perd en généralisation.\", 0.85, 2)\n",
      "(10, \"Qu'est-ce qu'une matrice de confusion ?\", \"Un tableau qui montre les performances d'un modèle de classification.\", 0.95, 2)\n",
      "(11, \"Qu'est-ce qu'un réseau de neurones ?\", 'Un modèle inspiré du cerveau humain qui peut apprendre des représentations complexes.', 0.85, 3)\n",
      "(12, \"Qu'est-ce qu'une activation ReLU ?\", \"Une fonction d'activation qui renvoie 0 pour les entrées négatives et l'entrée pour les positives.\", 0.9, 3)\n",
      "(13, \"Qu'est-ce qu'une couche convolutive ?\", 'Une couche qui applique des filtres pour extraire des caractéristiques des images.', 0.8, 3)\n",
      "(14, \"Qu'est-ce que la rétropropagation ?\", \"Une méthode pour ajuster les poids du réseau lors de l'apprentissage.\", 0.75, 3)\n",
      "(15, \"Qu'est-ce qu'un réseau de neurones convolutif ?\", 'Un réseau conçu spécifiquement pour traiter des données structurées comme des images.', 0.85, 3)\n",
      "(16, \"Qu'est-ce que la régression linéaire en économétrie ?\", 'Un modèle qui décrit la relation entre une variable dépendante et une ou plusieurs variables indépendantes.', 0.8, 4)\n",
      "(17, \"Qu'est-ce que l'ADF test en économétrie ?\", 'Le test ADF (Augmented Dickey-Fuller) est utilisé pour vérifier si une série temporelle est stationnaire.', 0.85, 4)\n",
      "(18, \"Qu'est-ce qu'un modèle VAR en économétrie ?\", 'Le modèle VAR (Vector Autoregressive) est utilisé pour analyser les relations entre plusieurs séries temporelles.', 0.9, 4)\n",
      "(19, \"Qu'est-ce qu'un portefeuille optimal en modélisation financière ?\", 'Un portefeuille qui maximise le rendement attendu pour un risque donné ou minimise le risque pour un rendement attendu donné.', 0.75, 4)\n",
      "(20, \"Qu'est-ce que la méthode des moindres carrés en économétrie ?\", \"Une méthode statistique utilisée pour estimer les paramètres d'un modèle de régression.\", 0.8, 4)\n",
      "(21, \"Qu'est-ce que Pandas en Python ?\", \"Pandas est une bibliothèque qui permet de manipuler et d'analyser des données sous forme de tableaux (DataFrame).\", 0.85, 5)\n",
      "(22, \"Comment filtrer les lignes d'un DataFrame Pandas selon une condition ?\", \"On utilise la syntaxe df[df['colonne'] > valeur] pour filtrer les lignes.\", 0.8, 5)\n",
      "(23, \"Qu'est-ce qu'une jointure SQL ?\", \"Une jointure permet de combiner des données provenant de plusieurs tables en fonction d'une clé partagée.\", 0.9, 5)\n",
      "(24, 'Comment grouper des données avec Pandas ?', 'On utilise la méthode `groupby()` pour grouper les données par une ou plusieurs colonnes.', 0.7, 5)\n",
      "(25, 'Comment faire une requête SQL SELECT ?', \"On utilise `SELECT colonne FROM table WHERE condition` pour extraire des données d'une table.\", 0.85, 5)\n",
      "(26, \"Qu'est-ce que Matplotlib ?\", 'Matplotlib est une bibliothèque Python utilisée pour créer des graphiques et des visualisations de données.', 0.9, 6)\n",
      "(27, 'Comment créer un histogramme avec Matplotlib ?', 'On utilise la fonction `plt.hist()` pour créer un histogramme.', 0.75, 6)\n",
      "(28, \"Qu'est-ce que Seaborn en Python ?\", 'Seaborn est une bibliothèque Python basée sur Matplotlib, offrant une interface plus simple pour créer des visualisations complexes.', 0.8, 6)\n",
      "(29, \"Comment personnaliser les axes d'un graphique avec Matplotlib ?\", 'On utilise `plt.xlim()` et `plt.ylim()` pour définir les limites des axes.', 0.85, 6)\n",
      "(30, \"Qu'est-ce que le graphique en boîte (boxplot) ?\", 'Un graphique qui montre la distribution des données à travers leurs quartiles et les valeurs aberrantes.', 0.9, 6)\n",
      "(31, \"Qu'est-ce qu'une série temporelle ?\", 'Une série temporelle est une séquence de données mesurées à intervalles réguliers.', 0.8, 7)\n",
      "(32, \"Qu'est-ce qu'un modèle ARIMA ?\", \"ARIMA est un modèle de prévision qui combine l'auto-régression, la différenciation et la moyenne mobile.\", 0.9, 7)\n",
      "(33, \"Qu'est-ce que la stationnarité en séries temporelles ?\", 'Une série temporelle est stationnaire si ses propriétés statistiques ne changent pas dans le temps.', 0.85, 7)\n",
      "(34, 'Comment traiter les valeurs manquantes dans une série temporelle ?', \"On peut utiliser des méthodes comme l'imputation ou l'interpolation pour traiter les valeurs manquantes.\", 0.75, 7)\n",
      "(35, \"Qu'est-ce que le lissage exponentiel ?\", 'Le lissage exponentiel est une méthode de prévision qui donne plus de poids aux observations récentes.', 0.8, 7)\n",
      "(36, \"Qu'est-ce que le biais algorithmique ?\", \"Le biais algorithmique est l'erreur systématique introduite par un algorithme qui produit des résultats injustes ou discriminatoires.\", 0.85, 8)\n",
      "(37, \"Comment minimiser le biais dans les données d'entraînement ?\", \"En s'assurant que les données d'entraînement sont représentatives de l'ensemble de la population.\", 0.8, 8)\n",
      "(38, \"Qu'est-ce que la confidentialité des données ?\", \"La confidentialité des données concerne la protection des informations sensibles contre l'accès non autorisé.\", 0.9, 8)\n",
      "(39, \"Qu'est-ce que la discrimination algorithmique ?\", \"La discrimination algorithmique se produit lorsqu'un algorithme pénalise injustement certains groupes d'individus.\", 0.75, 8)\n",
      "(40, 'Comment rendre un modèle plus équitable ?', \"On peut ajuster les données d'entraînement, utiliser des techniques de détection du biais, ou appliquer des méthodes de régularisation.\", 0.8, 8)\n",
      "(41, \"Qu'est-ce que Git ?\", 'Git est un système de contrôle de version permettant de gérer les versions de code source et de collaborer efficacement.', 0.85, 9)\n",
      "(42, \"Qu'est-ce que le débogage ?\", 'Le débogage consiste à identifier et à corriger les erreurs dans le code.', 0.8, 9)\n",
      "(43, \"Qu'est-ce que l'intégration continue ?\", \"L'intégration continue est une pratique de développement où le code est intégré et testé fréquemment dans un dépôt partagé.\", 0.9, 9)\n",
      "(44, 'Pourquoi utiliser Docker ?', 'Docker permet de créer, déployer et exécuter des applications dans des conteneurs isolés, facilitant ainsi le déploiement et la portabilité.', 0.75, 9)\n",
      "(45, \"Qu'est-ce que la gestion des dépendances ?\", 'La gestion des dépendances consiste à gérer les bibliothèques et modules nécessaires pour exécuter une application.', 0.8, 9)\n"
     ]
    }
   ],
   "source": [
    "# Nous allons recuperer toutes les cartes\n",
    "get_all_cards()"
   ]
  },
  {
   "cell_type": "markdown",
   "metadata": {},
   "source": [
    "## 2-6 Fonction pour obtenir le nombre total de cartes"
   ]
  },
  {
   "cell_type": "code",
   "execution_count": 110,
   "metadata": {},
   "outputs": [],
   "source": [
    "# Pour obtenir le nombre total de cartes\n",
    "def get_number_of_cards():\n",
    "    with sqlite3.connect(\"flashcards.db\") as conn:\n",
    "        c=conn.cursor()\n",
    "        c.execute(\"PRAGMA foreign_keys=ON;\")\n",
    "        c.execute(\"SELECT COUNT(*) FROM cards\")\n",
    "        count=c.fetchone()[0]\n",
    "        if count>0:\n",
    "            print(f\"✅ Il y a {count} carte(s) dans la base de données.\")\n",
    "        else:\n",
    "            print(\"❌ Aucune carte trouvée dans la base de données.\")"
   ]
  },
  {
   "cell_type": "code",
   "execution_count": 111,
   "metadata": {},
   "outputs": [
    {
     "name": "stdout",
     "output_type": "stream",
     "text": [
      "✅ Il y a 44 carte(s) dans la base de données.\n"
     ]
    }
   ],
   "source": [
    "# On affiche le nombres total de cartes\n",
    "get_number_of_cards()"
   ]
  },
  {
   "cell_type": "markdown",
   "metadata": {},
   "source": [
    "## 2-7 Fonction pour recuperer toutes les cartes d'un théme"
   ]
  },
  {
   "cell_type": "code",
   "execution_count": 112,
   "metadata": {},
   "outputs": [],
   "source": [
    "def get_cards_by_theme(id_theme):\n",
    "    with sqlite3.connect(\"flashcards.db\") as conn:\n",
    "        c=conn.cursor()\n",
    "        c.execute(\"PRAGMA foreign_keys=ON;\")\n",
    "        c.execute(\"SELECT * FROM cards WHERE id_theme=?\",(id_theme,))\n",
    "        cards=c.fetchall()\n",
    "        \n",
    "        if cards:\n",
    "            return cards\n",
    "        else:\n",
    "            print(f\"❌ Aucun carte trouvé pour le thème {id_theme}.\")\n",
    "            return []"
   ]
  },
  {
   "cell_type": "code",
   "execution_count": 113,
   "metadata": {},
   "outputs": [
    {
     "data": {
      "text/plain": [
       "[(1,\n",
       "  \"Qu'est-ce que la variance ?\",\n",
       "  'La variance mesure la dispersion des valeurs autour de la moyenne.',\n",
       "  0.9,\n",
       "  1),\n",
       " (3,\n",
       "  \"À quoi sert l'écart-type en statistique ?\",\n",
       "  \"L'écart-type est la racine carrée de la variance et permet d'évaluer la dispersion des données autour de la moyenne.\",\n",
       "  0.7,\n",
       "  1),\n",
       " (4,\n",
       "  \"Qu'est-ce que la loi normale ?\",\n",
       "  'La loi normale est une distribution symétrique en forme de cloche où la plupart des valeurs sont proches de la moyenne.',\n",
       "  0.9,\n",
       "  1),\n",
       " (5,\n",
       "  \"Qu'est-ce qu'un quartile en statistique ?\",\n",
       "  'Un quartile est une valeur qui divise un ensemble de données trié en quatre parties égales.',\n",
       "  0.75,\n",
       "  1)]"
      ]
     },
     "execution_count": 113,
     "metadata": {},
     "output_type": "execute_result"
    }
   ],
   "source": [
    "# Recuperation de toutes les cartes du theme 1:\n",
    "get_cards_by_theme(1)"
   ]
  },
  {
   "cell_type": "markdown",
   "metadata": {},
   "source": [
    "## Fonction pour tester"
   ]
  },
  {
   "cell_type": "code",
   "execution_count": 114,
   "metadata": {},
   "outputs": [
    {
     "name": "stdout",
     "output_type": "stream",
     "text": [
      "✅ la carte est créée avec succès.\n",
      "✅ la Carte avec l'ID est trouvée  : 46\n",
      "\n",
      "✅ La  Carte avec l'ID 46 est mise à jour avec succès.\n",
      "✅ La carte avec l'ID 46 est supprimée avec succés.\n",
      "✅ Il y a 44 carte(s) dans la base de données.\n"
     ]
    }
   ],
   "source": [
    "def test_fonctions_cards():\n",
    "    \"\"\"\n",
    "    Teste les opérations CRUD sur les cartes :\n",
    "    - Création d'une carte\n",
    "    - Récupération d'une carte spécifique\n",
    "    - Mise à jour d'une carte\n",
    "    - Vérification du nombre total de cartes\n",
    "    - Vérification des cartes d'un thème\n",
    "    - Suppression de la carte créée\n",
    "    \"\"\"\n",
    "\n",
    "    question = \"Test question\"\n",
    "    reponse = \"Test réponse\"\n",
    "    probabilite = 0.5\n",
    "    id_theme = 1\n",
    "\n",
    "    # 📌 Création d'une nouvelle carte\n",
    "    create_card(question, reponse, probabilite, id_theme)\n",
    "\n",
    "    # 📌 Récupération de l'ID de la dernière carte créée (sans afficher toutes les cartes)\n",
    "    with sqlite3.connect(\"flashcards.db\") as conn:\n",
    "        c = conn.cursor()\n",
    "        c.execute(\"SELECT ID FROM Cards ORDER BY ID DESC LIMIT 1\")\n",
    "        last_card_id = c.fetchone()\n",
    "\n",
    "    if last_card_id:\n",
    "        last_card_id = last_card_id[0]\n",
    "\n",
    "        # 📌 Vérification que la carte existe bien\n",
    "        get_card(last_card_id)\n",
    "\n",
    "        # 📌 Mise à jour de la carte\n",
    "        updated_question = \"Test question mise à jour\"\n",
    "        update_card(last_card_id, updated_question, reponse, probabilite, id_theme)\n",
    "\n",
    "        # 📌 Suppression de la carte après le test\n",
    "        delete_card(last_card_id)\n",
    "\n",
    "    # 📌 Vérification du nombre total de cartes\n",
    "    get_number_of_cards()\n",
    "\n",
    "    # 📌 Vérification des cartes d'un thème\n",
    "    get_cards_by_theme(1)\n",
    "\n",
    "# 🔹 Exécution du test complet\n",
    "test_fonctions_cards()\n"
   ]
  },
  {
   "cell_type": "markdown",
   "metadata": {},
   "source": [
    "# 3 - Fonction CRUD pour les themes"
   ]
  },
  {
   "cell_type": "markdown",
   "metadata": {},
   "source": [
    "## 3-1 Fonctions pour creer un theme"
   ]
  },
  {
   "cell_type": "code",
   "execution_count": 115,
   "metadata": {},
   "outputs": [],
   "source": [
    "# Pour créer un theme\n",
    "def create_theme(theme):\n",
    "    with sqlite3.connect(\"flashcards.db\") as conn:\n",
    "        c=conn.cursor()\n",
    "        c.execute(\"PRAGMA foreign_keys=ON;\")\n",
    "        \n",
    "        # On va commencer par verifier si le théme existe déjà\n",
    "        c.execute(\"SELECT COUNT(*) FROM Themes WHERE Theme=?\", (theme,))\n",
    "        theme_exist=c.fetchone()[0]\n",
    "        \n",
    "        if theme_exist>0:\n",
    "            print(f\"❌ Le thème '{theme}' existe déjà.\")\n",
    "        else:   \n",
    "            c.execute(\"INSERT INTO themes (Theme) VALUES (?)\", (theme,))\n",
    "            conn.commit()\n",
    "            print(f\"✅ Le thème '{theme}' est créé avec succès.\")\n",
    "        "
   ]
  },
  {
   "cell_type": "code",
   "execution_count": 116,
   "metadata": {},
   "outputs": [
    {
     "name": "stdout",
     "output_type": "stream",
     "text": [
      "✅ Le thème 'Introduction à l'IA' est créé avec succès.\n"
     ]
    }
   ],
   "source": [
    "# Insertion d'un nouveau theme \n",
    "create_theme(\"Introduction à l'IA\")"
   ]
  },
  {
   "cell_type": "markdown",
   "metadata": {},
   "source": [
    "## 3-2 Fonction pour creer un theme"
   ]
  },
  {
   "cell_type": "code",
   "execution_count": 117,
   "metadata": {},
   "outputs": [],
   "source": [
    "# Recuperer un théme par son ID\n",
    "def get_theme(id_theme):\n",
    "    with sqlite3.connect(\"flashcards.db\") as conn:\n",
    "        c=conn.cursor()\n",
    "        c.execute(\"PRAGMA foreign_keys=ON;\")\n",
    "        c.execute(\"SELECT * FROM Themes WHERE ID=?;\", (id_theme,))\n",
    "        \n",
    "        theme=c.fetchone()\n",
    "        if theme:\n",
    "            print(f\"✅ Le Thème récupéré : {theme}\")\n",
    "            return theme \n",
    "        else:\n",
    "            print(f\"❌ Aucun thème trouvé avec l'ID {id_theme}.\")\n",
    "            return None"
   ]
  },
  {
   "cell_type": "code",
   "execution_count": 118,
   "metadata": {},
   "outputs": [
    {
     "name": "stdout",
     "output_type": "stream",
     "text": [
      "✅ Le Thème récupéré : (10, \"Introduction à l'IA\")\n"
     ]
    },
    {
     "data": {
      "text/plain": [
       "(10, \"Introduction à l'IA\")"
      ]
     },
     "execution_count": 118,
     "metadata": {},
     "output_type": "execute_result"
    }
   ],
   "source": [
    "# Je vais recuperer le theme avec l'ID 10\n",
    "get_theme(10)"
   ]
  },
  {
   "cell_type": "markdown",
   "metadata": {},
   "source": [
    "## 3-3 Fonction pour mettre à jour un thème\n"
   ]
  },
  {
   "cell_type": "code",
   "execution_count": 119,
   "metadata": {},
   "outputs": [],
   "source": [
    "# Pour mettre à jour un theme\n",
    "def update_theme(Id , Theme):\n",
    "    with sqlite3.connect(\"flashcards.db\") as conn:\n",
    "        c=conn.cursor()\n",
    "        c.execute(\"PRAGMA foreign_keys=ON;\")\n",
    "        \n",
    "        # Je vais d'abord verifier si elle existe\n",
    "        c.execute(\"SELECT COUNT(*) FROM Themes WHERE ID=?;\", (Id,))\n",
    "        theme_exist=c.fetchone()[0]\n",
    "        \n",
    "        if theme_exist>0:\n",
    "            c.execute(\"UPDATE Themes SET Theme=? WHERE ID=?;\",(Theme,Id))\n",
    "            print(f\"✅ Le thème avec l'ID {Id} est mis à jour avec succès.\")\n",
    "        else:\n",
    "            print(f\"❌ Aucun thème trouvé avec l'ID {Id} pour mise à jour.\")"
   ]
  },
  {
   "cell_type": "code",
   "execution_count": 120,
   "metadata": {},
   "outputs": [
    {
     "name": "stdout",
     "output_type": "stream",
     "text": [
      "✅ Le thème avec l'ID 1 est mis à jour avec succès.\n"
     ]
    }
   ],
   "source": [
    "# Je vais changer le theme 1\n",
    "update_theme(1, \"Test\")"
   ]
  },
  {
   "cell_type": "markdown",
   "metadata": {},
   "source": [
    "## 3-4 Fonction pour supprimer un theme"
   ]
  },
  {
   "cell_type": "code",
   "execution_count": 121,
   "metadata": {},
   "outputs": [],
   "source": [
    "# Fonction pour supprimer un theme \n",
    "## Pour supprimer une carte\n",
    "def delete_theme(id):\n",
    "    with sqlite3.connect(\"flashcards.db\") as conn:\n",
    "        c=conn.cursor()\n",
    "        c.execute(\"PRAGMA foreign_keys=ON\")\n",
    "        # Je verifie si le theme existe\n",
    "        c.execute(\"DELETE FROM Themes WHERE id=?\", (id,))\n",
    "        theme_exist=c.fetchone()\n",
    "        \n",
    "        if theme_exist:\n",
    "            c.execute(\"DELETE FROM cards WHERE id=?\", (id,))\n",
    "            conn.commit()\n",
    "            print(f\"✅ La carte avec l'ID {id} est supprimée avec succés.\")\n",
    "        else:\n",
    "            print(f\"❌ La Carte avec l'ID {id} est introuvable.\")"
   ]
  },
  {
   "cell_type": "code",
   "execution_count": 122,
   "metadata": {},
   "outputs": [
    {
     "ename": "IntegrityError",
     "evalue": "FOREIGN KEY constraint failed",
     "output_type": "error",
     "traceback": [
      "\u001b[0;31m---------------------------------------------------------------------------\u001b[0m",
      "\u001b[0;31mIntegrityError\u001b[0m                            Traceback (most recent call last)",
      "Cell \u001b[0;32mIn[122], line 2\u001b[0m\n\u001b[1;32m      1\u001b[0m \u001b[38;5;66;03m# impossible de supprimer du fait de la contrainte qu'on à mit en place\u001b[39;00m\n\u001b[0;32m----> 2\u001b[0m \u001b[43mdelete_theme\u001b[49m\u001b[43m(\u001b[49m\u001b[38;5;241;43m9\u001b[39;49m\u001b[43m)\u001b[49m\n",
      "Cell \u001b[0;32mIn[121], line 8\u001b[0m, in \u001b[0;36mdelete_theme\u001b[0;34m(id)\u001b[0m\n\u001b[1;32m      6\u001b[0m c\u001b[38;5;241m.\u001b[39mexecute(\u001b[38;5;124m\"\u001b[39m\u001b[38;5;124mPRAGMA foreign_keys=ON\u001b[39m\u001b[38;5;124m\"\u001b[39m)\n\u001b[1;32m      7\u001b[0m \u001b[38;5;66;03m# Je verifie si le theme existe\u001b[39;00m\n\u001b[0;32m----> 8\u001b[0m \u001b[43mc\u001b[49m\u001b[38;5;241;43m.\u001b[39;49m\u001b[43mexecute\u001b[49m\u001b[43m(\u001b[49m\u001b[38;5;124;43m\"\u001b[39;49m\u001b[38;5;124;43mDELETE FROM Themes WHERE id=?\u001b[39;49m\u001b[38;5;124;43m\"\u001b[39;49m\u001b[43m,\u001b[49m\u001b[43m \u001b[49m\u001b[43m(\u001b[49m\u001b[38;5;28;43mid\u001b[39;49m\u001b[43m,\u001b[49m\u001b[43m)\u001b[49m\u001b[43m)\u001b[49m\n\u001b[1;32m      9\u001b[0m theme_exist\u001b[38;5;241m=\u001b[39mc\u001b[38;5;241m.\u001b[39mfetchone()\n\u001b[1;32m     11\u001b[0m \u001b[38;5;28;01mif\u001b[39;00m theme_exist:\n",
      "\u001b[0;31mIntegrityError\u001b[0m: FOREIGN KEY constraint failed"
     ]
    }
   ],
   "source": [
    "# impossible de supprimer du fait de la contrainte qu'on à mit en place\n",
    "delete_theme(9)"
   ]
  },
  {
   "cell_type": "markdown",
   "metadata": {},
   "source": [
    "## 3-5 Fonction pour recuperer toutes les themes"
   ]
  },
  {
   "cell_type": "code",
   "execution_count": 123,
   "metadata": {},
   "outputs": [],
   "source": [
    "# Fonction pour recuperer toutes les themes\n",
    "\n",
    "def get_all_themes():\n",
    "    with sqlite3.connect(\"flashcards.db\") as conn:\n",
    "        c=conn.cursor()\n",
    "        c.execute(\"PRAGMA foreign_keys=ON;\")\n",
    "        c.execute(\"SELECT * FROM Themes\")\n",
    "        themes=c.fetchall()\n",
    "        \n",
    "        if themes:\n",
    "            print(f\"✅ {len(themes)} thème(s) trouvé(s) :\")\n",
    "            for theme in themes:\n",
    "               \n",
    "                print(f\"ID: {theme[0]}, Theme: {theme[1]}\")\n",
    "            return \n",
    "        else:\n",
    "            print(\"❌ Aucune carte trouvée dans la base de données.\")\n",
    "            return []\n",
    "        "
   ]
  },
  {
   "cell_type": "code",
   "execution_count": 124,
   "metadata": {},
   "outputs": [
    {
     "name": "stdout",
     "output_type": "stream",
     "text": [
      "✅ 10 thème(s) trouvé(s) :\n",
      "ID: 1, Theme: Test\n",
      "ID: 2, Theme: Machine Learning\n",
      "ID: 3, Theme: Deep Learning\n",
      "ID: 4, Theme: Econometrie et Modélisation Financière\n",
      "ID: 5, Theme: Manipulation des Données avec Pandas et SQL\n",
      "ID: 6, Theme: Visualisation des Données\n",
      "ID: 7, Theme: Traitement des Séries Temporelles\n",
      "ID: 8, Theme: Ethique et Biais en Data Science\n",
      "ID: 9, Theme: Bonnes Pratiques et Outils Dev\n",
      "ID: 10, Theme: Introduction à l'IA\n"
     ]
    }
   ],
   "source": [
    " # On va recuperer tous les thémes\n",
    " get_all_themes()"
   ]
  },
  {
   "cell_type": "markdown",
   "metadata": {},
   "source": [
    "## Fonction pour tester"
   ]
  },
  {
   "cell_type": "code",
   "execution_count": 125,
   "metadata": {},
   "outputs": [
    {
     "name": "stdout",
     "output_type": "stream",
     "text": [
      "✅ Le thème 'Thème test' est créé avec succès.\n",
      "✅ Le Thème récupéré : (11, 'Thème test')\n",
      "✅ Le thème avec l'ID 11 est mis à jour avec succès.\n",
      "✅ 11 thème(s) trouvé(s) :\n",
      "ID: 1, Theme: Test\n",
      "ID: 2, Theme: Machine Learning\n",
      "ID: 3, Theme: Deep Learning\n",
      "ID: 4, Theme: Econometrie et Modélisation Financière\n",
      "ID: 5, Theme: Manipulation des Données avec Pandas et SQL\n",
      "ID: 6, Theme: Visualisation des Données\n",
      "ID: 7, Theme: Traitement des Séries Temporelles\n",
      "ID: 8, Theme: Ethique et Biais en Data Science\n",
      "ID: 9, Theme: Bonnes Pratiques et Outils Dev\n",
      "ID: 10, Theme: Introduction à l'IA\n",
      "ID: 11, Theme: Thème test mis à jour\n"
     ]
    }
   ],
   "source": [
    "def test_fonctions_themes():\n",
    "    \"\"\"\n",
    "    Teste les opérations CRUD sur les thèmes :\n",
    "    - Création d'un thème\n",
    "    - Récupération d'un thème spécifique\n",
    "    - Mise à jour d'un thème\n",
    "    - Vérification de la liste des thèmes\n",
    "    \"\"\"\n",
    "\n",
    "    new_theme = \"Thème test\"\n",
    "\n",
    "    # 📌 Création d'un nouveau thème\n",
    "    create_theme(new_theme)\n",
    "\n",
    "    # 📌 Récupération de l'ID du dernier thème créé (sans afficher tous les thèmes)\n",
    "    with sqlite3.connect(\"flashcards.db\") as conn:\n",
    "        c = conn.cursor()\n",
    "        c.execute(\"SELECT ID FROM Themes ORDER BY ID DESC LIMIT 1\")\n",
    "        last_theme_id = c.fetchone()\n",
    "\n",
    "    if last_theme_id:\n",
    "        last_theme_id = last_theme_id[0]\n",
    "\n",
    "        # 📌 Vérification que le thème existe bien\n",
    "        get_theme(last_theme_id)\n",
    "\n",
    "        # 📌 Mise à jour du thème\n",
    "        updated_theme = \"Thème test mis à jour\"\n",
    "        update_theme(last_theme_id, updated_theme)\n",
    "\n",
    "    # 📌 Vérification de la liste des thèmes\n",
    "    get_all_themes()\n",
    "\n",
    "# 🔹 Exécution du test pour les thèmes\n",
    "test_fonctions_themes()\n"
   ]
  },
  {
   "cell_type": "markdown",
   "metadata": {},
   "source": [
    "# 4 - Fonctions pour les Statistiques"
   ]
  },
  {
   "cell_type": "markdown",
   "metadata": {},
   "source": [
    "## 4-1 Fonctions pour mettre à jour les tats"
   ]
  },
  {
   "cell_type": "code",
   "execution_count": 126,
   "metadata": {},
   "outputs": [
    {
     "name": "stdout",
     "output_type": "stream",
     "text": [
      "✅ Nouvelle entrée ajoutée pour la date 2025-03-18.\n",
      "✅ Statistiques mises à jour pour la date 2025-03-18.\n"
     ]
    }
   ],
   "source": [
    "def update_stats(is_correct):\n",
    "    \"\"\"Met à jour les statistiques pour la date du jour.\"\"\"\n",
    "    \n",
    "    today = datetime.now().strftime(\"%Y-%m-%d\")  # Date du jour\n",
    "    \n",
    "    with sqlite3.connect(\"flashcards.db\") as conn:\n",
    "        c = conn.cursor()\n",
    "        c.execute(\"PRAGMA foreign_keys=ON;\")\n",
    "        \n",
    "        # Vérifier si une entrée existe déjà pour aujourd'hui\n",
    "        c.execute(\"SELECT * FROM Stats WHERE Date = ?\", (today,))\n",
    "        stats = c.fetchone()\n",
    "        \n",
    "        if stats:\n",
    "            # Mise à jour des statistiques existantes\n",
    "            bonnes_reponses = stats[1] + 1 if is_correct else stats[1]\n",
    "            mauvaises_reponses = stats[2] + 1 if not is_correct else stats[2]\n",
    "\n",
    "            c.execute(\"\"\"\n",
    "                UPDATE Stats \n",
    "                SET Bonnes_Reponses = ?, Mauvaises_Reponses = ? \n",
    "                WHERE Date = ?\n",
    "            \"\"\", (bonnes_reponses, mauvaises_reponses, today))\n",
    "            \n",
    "            print(f\"✅ Statistiques mises à jour pour la date {today}.\")\n",
    "        \n",
    "        else:\n",
    "            # Création d'une nouvelle entrée si elle n'existe pas\n",
    "            bonnes_reponses = 1 if is_correct else 0\n",
    "            mauvaises_reponses = 0 if is_correct else 1\n",
    "            \n",
    "            c.execute(\"\"\"\n",
    "                INSERT INTO Stats (Bonnes_Reponses, Mauvaises_Reponses, Date)\n",
    "                VALUES (?, ?, ?)\n",
    "            \"\"\", (bonnes_reponses, mauvaises_reponses, today))\n",
    "\n",
    "            print(f\"✅ Nouvelle entrée ajoutée pour la date {today}.\")\n",
    "\n",
    "        conn.commit()\n",
    "\n",
    "# 🔹 Test de la mise à jour des statistiques\n",
    "update_stats(True)  # Simule une bonne réponse\n",
    "update_stats(False) # Simule une mauvaise réponse"
   ]
  },
  {
   "cell_type": "markdown",
   "metadata": {},
   "source": [
    "## 4-2 Fonction pour mettre à jour la probabilité d'apparriton des cartes"
   ]
  },
  {
   "cell_type": "code",
   "execution_count": 127,
   "metadata": {},
   "outputs": [
    {
     "name": "stdout",
     "output_type": "stream",
     "text": [
      "✅ Probabilité mise à jour pour la carte 1: 0.81\n",
      "✅ Probabilité mise à jour pour la carte 3: 0.77\n"
     ]
    }
   ],
   "source": [
    "def update_card_probability(card_id, is_correct):\n",
    "    \"\"\"Met à jour la probabilité d'apparition d'une carte.\"\"\"\n",
    "    \n",
    "    with sqlite3.connect(\"flashcards.db\") as conn:\n",
    "        c = conn.cursor()\n",
    "        c.execute(\"PRAGMA foreign_keys=ON;\")\n",
    "        \n",
    "        # Vérifier si la carte existe\n",
    "        c.execute(\"SELECT Probabilite FROM Cards WHERE ID = ?\", (card_id,))\n",
    "        card = c.fetchone()\n",
    "        \n",
    "        if card:\n",
    "            current_prob = card[0]\n",
    "            \n",
    "            # Calcul de la nouvelle probabilité\n",
    "            new_prob = current_prob * 0.9 if is_correct else current_prob * 1.1\n",
    "            new_prob = max(0.1, min(new_prob, 1.0))  # On limite entre 0.1 et 1.0\n",
    "\n",
    "            # Mise à jour dans la base de données\n",
    "            c.execute(\"\"\"\n",
    "                UPDATE Cards \n",
    "                SET Probabilite = ? \n",
    "                WHERE ID = ?\n",
    "            \"\"\", (new_prob, card_id))\n",
    "            \n",
    "            conn.commit()\n",
    "            print(f\"✅ Probabilité mise à jour pour la carte {card_id}: {new_prob:.2f}\")\n",
    "        \n",
    "        else:\n",
    "            print(f\"❌ Aucune carte trouvée avec l'ID {card_id}.\")\n",
    "\n",
    "# 🔹 Test de mise à jour de probabilité\n",
    "update_card_probability(1, True)  # Simule une bonne réponse\n",
    "update_card_probability(3, False) # Simule une mauvaise réponse\n"
   ]
  },
  {
   "cell_type": "markdown",
   "metadata": {},
   "source": [
    "## 4-3 Fonction pour recuperer les statistiques."
   ]
  },
  {
   "cell_type": "code",
   "execution_count": 128,
   "metadata": {},
   "outputs": [
    {
     "name": "stdout",
     "output_type": "stream",
     "text": [
      "📊 Statistiques des réponses :\n",
      "📅 Date : 2025-03-18 | ✅ Bonnes Réponses : 1 | ❌ Mauvaises Réponses : 1\n"
     ]
    }
   ],
   "source": [
    "def get_stats():\n",
    "    \"\"\"Affiche les statistiques des réponses enregistrées.\"\"\"\n",
    "    \n",
    "    with sqlite3.connect(\"flashcards.db\") as conn:\n",
    "        c = conn.cursor()\n",
    "        c.execute(\"PRAGMA foreign_keys=ON;\")\n",
    "        \n",
    "        c.execute(\"SELECT * FROM Stats ORDER BY Date DESC\")\n",
    "        stats = c.fetchall()\n",
    "        \n",
    "        if stats:\n",
    "            print(f\"📊 Statistiques des réponses :\")\n",
    "            for row in stats:\n",
    "                print(f\"📅 Date : {row[3]} | ✅ Bonnes Réponses : {row[1]} | ❌ Mauvaises Réponses : {row[2]}\")\n",
    "        else:\n",
    "            print(\"❌ Aucune donnée statistique disponible.\")\n",
    "\n",
    "# 🔹 Test pour afficher les statistiques\n",
    "get_stats()\n"
   ]
  },
  {
   "cell_type": "markdown",
   "metadata": {},
   "source": [
    "## Fonction test"
   ]
  },
  {
   "cell_type": "code",
   "execution_count": 129,
   "metadata": {},
   "outputs": [
    {
     "name": "stdout",
     "output_type": "stream",
     "text": [
      "✅ Statistiques mises à jour pour la date 2025-03-18.\n",
      "✅ Statistiques mises à jour pour la date 2025-03-18.\n",
      "✅ Probabilité mise à jour pour la carte 1: 0.73\n",
      "✅ Probabilité mise à jour pour la carte 1: 0.80\n",
      "📊 Statistiques des réponses :\n",
      "📅 Date : 2025-03-18 | ✅ Bonnes Réponses : 2 | ❌ Mauvaises Réponses : 2\n"
     ]
    }
   ],
   "source": [
    "def test_fonctions_stats():\n",
    "    \"\"\"\n",
    "    Teste les mises à jour et l'affichage des statistiques :\n",
    "    - Mise à jour des statistiques avec une bonne et une mauvaise réponse\n",
    "    - Mise à jour de la probabilité d'une carte\n",
    "    - Vérification des statistiques enregistrées\n",
    "    \"\"\"\n",
    "\n",
    "    # 📌 Mise à jour des statistiques (1 bonne et 1 mauvaise réponse)\n",
    "    update_stats(True)\n",
    "    update_stats(False)\n",
    "\n",
    "    # 📌 Récupération de l'ID de la première carte existante (sans afficher toutes les cartes)\n",
    "    with sqlite3.connect(\"flashcards.db\") as conn:\n",
    "        c = conn.cursor()\n",
    "        c.execute(\"SELECT ID FROM Cards ORDER BY ID ASC LIMIT 1\")\n",
    "        first_card_id = c.fetchone()\n",
    "\n",
    "    if first_card_id:\n",
    "        first_card_id = first_card_id[0]\n",
    "\n",
    "        # 📌 Mise à jour de la probabilité d'apparition de cette carte\n",
    "        update_card_probability(first_card_id, True)  # Simule une bonne réponse\n",
    "        update_card_probability(first_card_id, False)  # Simule une mauvaise réponse\n",
    "\n",
    "    # 📌 Affichage des statistiques\n",
    "    get_stats()\n",
    "\n",
    "# 🔹 Exécution du test pour les statistiques\n",
    "test_fonctions_stats()\n"
   ]
  }
 ],
 "metadata": {
  "kernelspec": {
   "display_name": "flashcards_env",
   "language": "python",
   "name": "python3"
  },
  "language_info": {
   "codemirror_mode": {
    "name": "ipython",
    "version": 3
   },
   "file_extension": ".py",
   "mimetype": "text/x-python",
   "name": "python",
   "nbconvert_exporter": "python",
   "pygments_lexer": "ipython3",
   "version": "3.10.16"
  }
 },
 "nbformat": 4,
 "nbformat_minor": 2
}
